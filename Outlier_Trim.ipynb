{
 "cells": [
  {
   "cell_type": "code",
   "execution_count": null,
   "id": "09163f82",
   "metadata": {},
   "outputs": [],
   "source": [
    "\n",
    "aakash=DATASET                                     # Inplace of \" DATASET \" we have to just replace our dataset name  \n",
    "numdata=aakash.select_dtypes(include=np.number)    # here only the numerical columns of the dataset will be selected\n",
    "Li=[]\n",
    "Ui=[]\n",
    "for col in numdata.columns:\n",
    "    q75=numdata[col].quantile(0.74)\n",
    "    q25=numdata[col].quantile(0.25)\n",
    "    IQR=q75-q25\n",
    "    LL=q25-1.5*IQR\n",
    "    UL=q75+1.5*IQR\n",
    "    Li.append(LL)                # Li is a list which contains the Lower Limit(LL) values of the numerical columns\n",
    "    Ui.append(UL)                # Ui is a list which contans the Upper Limit(UL) values of the numerical columns\n",
    "\n",
    "i=0\n",
    "numdata1=numdata\n",
    "for col in numdata1.columns:\n",
    "        out = numdata1[(numdata1[col]>Li[i]) & (numdata1[col]<Ui[i])]\n",
    "        numdata1=out\n",
    "        i=i+1\n",
    "\n",
    "outlier_array=np.array(numdata1.index)   # outlier_array contains the row numbers which contains the outlier values\n",
    "Outlier_Trim=aakash.loc[outlier_array]   # Here we remove the rows which have the outlier values and produce a outlier\n",
    "                                             # free dataset in Outlier_Trim\n",
    "Outlier_Trim "
   ]
  }
 ],
 "metadata": {
  "kernelspec": {
   "display_name": "Python 3 (ipykernel)",
   "language": "python",
   "name": "python3"
  },
  "language_info": {
   "codemirror_mode": {
    "name": "ipython",
    "version": 3
   },
   "file_extension": ".py",
   "mimetype": "text/x-python",
   "name": "python",
   "nbconvert_exporter": "python",
   "pygments_lexer": "ipython3",
   "version": "3.9.12"
  }
 },
 "nbformat": 4,
 "nbformat_minor": 5
}
